{
 "cells": [
  {
   "cell_type": "markdown",
   "metadata": {},
   "source": [
    "Cezary Tytko 118873"
   ]
  },
  {
   "cell_type": "code",
   "execution_count": 3,
   "id": "8ac40dced1d1fc4c",
   "metadata": {
    "ExecuteTime": {
     "end_time": "2023-11-02T17:30:20.489097100Z",
     "start_time": "2023-11-02T17:30:20.285766500Z"
    },
    "collapsed": false
   },
   "outputs": [],
   "source": [
    "import pandas as pd\n",
    "import numpy as np\n",
    "from datetime import timedelta\n",
    "import matplotlib.pyplot as plt\n"
   ]
  },
  {
   "cell_type": "markdown",
   "metadata": {},
   "source": [
    "Dla giełdy forex Notowania startują o 23:00 w niedzielę i trwają do 22:00 w piątek."
   ]
  },
  {
   "cell_type": "code",
   "execution_count": 4,
   "metadata": {},
   "outputs": [],
   "source": [
    "\n",
    "\n",
    "def getDataPandas(name: str = 'EURUSD_D1'):\n",
    "    colNames = ['Time', 'Open', 'High', 'Low', 'Close', 'Volume']\n",
    "    df = pd.read_csv(f'Data/{name}.csv', index_col=False, names=colNames, date_format='%Y-%m-%d %H:%M',\n",
    "                     parse_dates=['Time'])\n",
    "    df[\"WeekDay\"] = df['Time'].dt.weekday\n",
    "\n",
    "    # Ustawienie daty jako indeks\n",
    "    df = df.set_index('Time')\n",
    "    \n",
    "    # Uzupełnienie brakujących dat zerami\n",
    "    min_date = df.index.min()\n",
    "    max_date = df.index.max()\n",
    "    all_dates = pd.date_range(min_date, max_date, freq='D')\n",
    "    df = df.reindex(all_dates, fill_value=0)\n",
    "    \n",
    "    # Dodanie kolumny z dniem tygodnia\n",
    "    df[\"WeekDay\"] = df.index.weekday\n",
    "    \n",
    "    df = df.reset_index()\n",
    "    df = df.rename(columns={'index': 'Time'})\n",
    "    # połaczenie niedzieli z poniedziałkiem\n",
    "    # for i, row in df.iterrows():\n",
    "    #     if row['WeekDay'] == 6:\n",
    "    #         if i + 1 >= df.shape[0]:\n",
    "    #             print('out of range!')\n",
    "    #             continue\n",
    "    #         df.loc[i + 1, \"Open\"] = row['Open']\n",
    "    #         df.loc[i + 1, \"High\"] = max(row['High'], df.loc[i + 1, \"High\"])\n",
    "    #         df.loc[i + 1, \"Low\"] = min(row['Low'], df.loc[i + 1, \"Low\"])\n",
    "    #         df.loc[i + 1, \"Volume\"] = sum([row['Volume'], df.loc[i + 1, \"Volume\"]])\n",
    "    # df = df[df.WeekDay != 6]\n",
    "    # df.reset_index(inplace=True, drop=True)\n",
    "\n",
    "    # w niektóre piątki giełda nie była otwarta, naiwnie uzupełniamy brakujące dni danymi z dnia poprzedniego\n",
    "    # for i, row in df.iterrows():\n",
    "    #     if row.WeekDay == 3:\n",
    "    #         if df.loc[i + 1, 'WeekDay'] != 4:\n",
    "    #             print(row.Time)\n",
    "    #             row.WeekDay = 4\n",
    "    #             row.Time += timedelta(days=1)\n",
    "    #             df = pd.concat([df, pd.DataFrame([row])])\n",
    "\n",
    "    # df.set_index(\"Time\", inplace=True)\n",
    "    # df.sort_index(inplace=True)\n",
    "\n",
    "    df['WeekDay'] = df['WeekDay'].astype(int)\n",
    "    # df.drop(['WeekDay'], inplace=True, axis=1)\n",
    "\n",
    "    return df\n",
    "\n",
    "\n",
    "def modifyDataPandas(df: pd.DataFrame):\n",
    "    # połaczenie niedzieli z poniedziałkiem\n",
    "    for i, row in df.iterrows():\n",
    "        if row['WeekDay'] == 6:\n",
    "            df.loc[i + 1, \"Open\"] = row['Open']\n",
    "            df.loc[i + 1, \"High\"] = max(row['High'], df.loc[i + 1, \"High\"])\n",
    "            df.loc[i + 1, \"Low\"] = min(row['Low'], df.loc[i + 1, \"Low\"])\n",
    "            df.loc[i + 1, \"Volume\"] = sum([row['Volume'], df.loc[i + 1, \"Volume\"]])\n",
    "            \n",
    "    records_for_weekday = df[df.WeekDay == 4] #piątki\n",
    "    records_with_empty_values = records_for_weekday[records_for_weekday.drop(columns=['WeekDay']).eq(0).any(axis=1)]\n",
    "    for i, row in records_with_empty_values.iterrows():\n",
    "        prev_index = i - 1\n",
    "        if prev_index >= 0:\n",
    "            df.at[i, 'Open'] = df.at[prev_index, 'Close']\n",
    "            df.at[i, 'High'] = df.at[prev_index, 'Close']\n",
    "            df.at[i, 'Low'] = df.at[prev_index, 'Close']\n",
    "            df.at[i, 'Close'] = df.at[prev_index, 'Close']\n",
    "            df.at[i, 'Volume'] = df.at[prev_index, 'Volume']\n",
    "            print(df.loc[i])\n",
    "\n",
    "    df.drop(df[df['WeekDay'].isin([6])].index, inplace=True)\n",
    "    df = df.reset_index()    \n",
    "\n",
    "    # df['WeekDay'] = df['WeekDay'].astype(int)\n",
    "\n",
    "\n",
    "    return df\n",
    "\n",
    "def checkDataQuality(df):\n",
    "    missing_values = df.drop(columns=['WeekDay']).isna().sum()\n",
    "\n",
    "    print(\"Liczba brakujących wartości dla każdej kolumny:\")\n",
    "    print(missing_values)\n",
    "\n",
    "    total_missing = missing_values.sum()\n",
    "    print(\"\\nŁączna liczba brakujących wartości w danych:\", total_missing)\n",
    "\n",
    "    zero_values = df.drop(columns=['WeekDay']).eq(0).sum()\n",
    "\n",
    "    # zero_values_without_weekday = zero_values.drop('WeekDay', errors='ignore')\n",
    "    print(\"Liczba wartości zer (poza 'WeekDay') dla każdej kolumny:\")\n",
    "    print(zero_values)\n",
    "\n",
    "    total_zeros = zero_values.sum()\n",
    "    print(\"\\nŁączna liczba wartości zer (poza 'WeekDay') w danych:\", total_zeros)\n",
    "\n",
    "    zero_values_by_weekday = df.drop(columns=['WeekDay']).eq(0).groupby(df['WeekDay']).sum()\n",
    "\n",
    "    print(\"Liczba wartości zer dla każdego dnia tygodnia (poza 'WeekDay'):\")\n",
    "    print(zero_values_by_weekday)\n",
    "\n",
    "def findMissingRecordsByWeekday(df, target_weekday):\n",
    "\n",
    "    # Wybrać rekordy dla danego dnia tygodnia\n",
    "    records_for_weekday = df[df.index.weekday == target_weekday]\n",
    "    records_with_empty_values = records_for_weekday[records_for_weekday.drop(columns=['WeekDay']).eq(0).any(axis=1)]\n",
    "    # Znaleźć brakujące rekordy\n",
    "    # missing_records = all_dates_for_weekday.difference(records_for_weekday.index)\n",
    "\n",
    "    # Wyświetlić wyniki\n",
    "    print(f\"Brakujące rekordy dla dnia tygodnia {target_weekday}:\")\n",
    "    print(records_with_empty_values)\n",
    "    return records_with_empty_values\n",
    "\n",
    "def getNonZeroData(df):\n",
    "    # print('Usunieto:')\n",
    "\n",
    "    # print()\n",
    "    return df[df.drop(columns=['WeekDay']).ne(0).all(axis=1)]\n",
    "\n",
    "def plotValueOverTime(df, value_column):\n",
    "\n",
    "    plt.figure(figsize=(10, 6))\n",
    "    plt.plot(df.index, df[value_column], marker='o', linestyle='-', color='b')\n",
    "\n",
    "    # Tytuł i oznaczenia osi\n",
    "    plt.title(f'Wykres dla wartości {value_column} względem czasu')\n",
    "    plt.xlabel('Czas')\n",
    "    plt.ylabel(value_column)\n",
    "\n",
    "    # Pokaż wykres\n",
    "    plt.grid(True)\n",
    "    plt.show()\n",
    "\n",
    "def modifyDataPandasAddDiference(df: pd.DataFrame):\n",
    "    df['Close_Open_Difference'] = df['Close'] - df['Open']\n",
    "    df['Weekend_Difference'] = 0\n",
    "    weekday_five = df[df.WeekDay == 5]\n",
    "    for i, row in weekday_five.iterrows():\n",
    "        if i > 0 and i + 1 < len(df):\n",
    "            df.at[i, 'Weekend_Difference'] = df.at[i+1, 'Open'] - df.at[i-1, 'Close']\n",
    "\n",
    "def save_dataframe_to_csv(df, file_path):\n",
    "    df.to_csv(file_path, index=False)\n",
    "\n",
    "def read_dataframe_from_csv(file_path):\n",
    "    return pd.read_csv(file_path)"
   ]
  },
  {
   "cell_type": "code",
   "execution_count": 6,
   "metadata": {},
   "outputs": [
    {
     "name": "stdout",
     "output_type": "stream",
     "text": [
      "   index       Time     Open     High      Low    Close  Volume  WeekDay\n",
      "0      0 2007-05-14  1.35378  1.35493  1.35357  1.35405  274786        0\n",
      "1      1 2007-05-15  1.35401  1.36071  1.35264  1.35917  667008        1\n",
      "2      2 2007-05-16  1.35915  1.36081  1.35035  1.35270  674245        2\n",
      "3      3 2007-05-17  1.35270  1.35421  1.34773  1.34915  666123        3\n",
      "4      4 2007-05-18  1.34919  1.35205  1.34648  1.35053  509342        4\n",
      "5      5 2007-05-19  0.00000  0.00000  0.00000  0.00000       0        5\n",
      "6      7 2007-05-21  1.35123  1.35288  1.34359  1.34574  739650        0\n",
      "7      8 2007-05-22  1.34573  1.34744  1.34376  1.34497  663467        1\n",
      "8      9 2007-05-23  1.34495  1.35004  1.34149  1.34525  667774        2\n",
      "9     10 2007-05-24  1.34522  1.34602  1.34152  1.34164  669238        3\n",
      "   index       Time     Open     High      Low    Close  Volume  WeekDay   \n",
      "0      0 2007-05-14  1.35378  1.35493  1.35357  1.35405  274786        0  \\\n",
      "1      1 2007-05-15  1.35401  1.36071  1.35264  1.35917  667008        1   \n",
      "2      2 2007-05-16  1.35915  1.36081  1.35035  1.35270  674245        2   \n",
      "3      3 2007-05-17  1.35270  1.35421  1.34773  1.34915  666123        3   \n",
      "4      4 2007-05-18  1.34919  1.35205  1.34648  1.35053  509342        4   \n",
      "5      5 2007-05-19  0.00000  0.00000  0.00000  0.00000       0        5   \n",
      "6      7 2007-05-21  1.35123  1.35288  1.34359  1.34574  739650        0   \n",
      "7      8 2007-05-22  1.34573  1.34744  1.34376  1.34497  663467        1   \n",
      "8      9 2007-05-23  1.34495  1.35004  1.34149  1.34525  667774        2   \n",
      "9     10 2007-05-24  1.34522  1.34602  1.34152  1.34164  669238        3   \n",
      "\n",
      "   Close_Open_Difference  Weekend_Difference  \n",
      "0                0.00027              0.0000  \n",
      "1                0.00516              0.0000  \n",
      "2               -0.00645              0.0000  \n",
      "3               -0.00355              0.0000  \n",
      "4                0.00134              0.0000  \n",
      "5                0.00000              0.0007  \n",
      "6               -0.00549              0.0000  \n",
      "7               -0.00076              0.0000  \n",
      "8                0.00030              0.0000  \n",
      "9               -0.00358              0.0000  \n",
      "5       0.00070\n",
      "11      0.00085\n",
      "17     -0.00029\n",
      "23     -0.00037\n",
      "29     -0.00102\n",
      "         ...   \n",
      "4985   -0.00034\n",
      "4991    0.00039\n",
      "4997    0.00096\n",
      "5003    0.00047\n",
      "5009    0.00133\n",
      "Name: Weekend_Difference, Length: 830, dtype: float64\n"
     ]
    }
   ],
   "source": [
    "print(df.head(10))\n",
    "modifyDataPandasAddDiference(df)\n",
    "print(df.head(10))\n",
    "print(df.loc[ df.Weekend_Difference != 0 , 'Weekend_Difference' ])\n",
    "\n",
    "# save_dataframe_to_csv(df, 'newDataCsv.csv')"
   ]
  },
  {
   "cell_type": "code",
   "execution_count": 5,
   "metadata": {},
   "outputs": [
    {
     "name": "stdout",
     "output_type": "stream",
     "text": [
      "        Time     Open     High      Low    Close  Volume  WeekDay\n",
      "0 2007-05-14  1.35378  1.35493  1.35357  1.35405  274786        0\n",
      "1 2007-05-15  1.35401  1.36071  1.35264  1.35917  667008        1\n",
      "2 2007-05-16  1.35915  1.36081  1.35035  1.35270  674245        2\n",
      "3 2007-05-17  1.35270  1.35421  1.34773  1.34915  666123        3\n",
      "4 2007-05-18  1.34919  1.35205  1.34648  1.35053  509342        4\n",
      "5 2007-05-19  0.00000  0.00000  0.00000  0.00000       0        5\n",
      "6 2007-05-20  1.35123  1.35288  1.35123  1.35159   78458        6\n",
      "7 2007-05-21  1.35153  1.35200  1.34359  1.34574  661192        0\n",
      "8 2007-05-22  1.34573  1.34744  1.34376  1.34497  663467        1\n",
      "9 2007-05-23  1.34495  1.35004  1.34149  1.34525  667774        2\n",
      "Time       2016-01-01 00:00:00\n",
      "Open                   1.08545\n",
      "High                   1.08545\n",
      "Low                    1.08545\n",
      "Close                  1.08545\n",
      "Volume                  101862\n",
      "WeekDay                      4\n",
      "Name: 3154, dtype: object\n",
      "Time       2021-01-01 00:00:00\n",
      "Open                   1.22141\n",
      "High                   1.22141\n",
      "Low                    1.22141\n",
      "Close                  1.22141\n",
      "Volume                  159119\n",
      "WeekDay                      4\n",
      "Name: 4981, dtype: object\n",
      "   index       Time     Open     High      Low    Close  Volume  WeekDay\n",
      "0      0 2007-05-14  1.35378  1.35493  1.35357  1.35405  274786        0\n",
      "1      1 2007-05-15  1.35401  1.36071  1.35264  1.35917  667008        1\n",
      "2      2 2007-05-16  1.35915  1.36081  1.35035  1.35270  674245        2\n",
      "3      3 2007-05-17  1.35270  1.35421  1.34773  1.34915  666123        3\n",
      "4      4 2007-05-18  1.34919  1.35205  1.34648  1.35053  509342        4\n",
      "5      5 2007-05-19  0.00000  0.00000  0.00000  0.00000       0        5\n",
      "6      7 2007-05-21  1.35123  1.35288  1.34359  1.34574  739650        0\n",
      "7      8 2007-05-22  1.34573  1.34744  1.34376  1.34497  663467        1\n",
      "8      9 2007-05-23  1.34495  1.35004  1.34149  1.34525  667774        2\n",
      "9     10 2007-05-24  1.34522  1.34602  1.34152  1.34164  669238        3\n"
     ]
    }
   ],
   "source": [
    "df = getDataPandas()\n",
    "print(df.head(10))\n",
    "df = modifyDataPandas(df)\n",
    "print(df.head(10))"
   ]
  },
  {
   "cell_type": "code",
   "execution_count": 83,
   "metadata": {},
   "outputs": [
    {
     "name": "stdout",
     "output_type": "stream",
     "text": [
      "Brakujące rekordy dla dnia tygodnia 4:\n",
      "            Open  High  Low  Close  Volume  WeekDay\n",
      "2016-01-01   0.0   0.0  0.0    0.0       0        4\n",
      "2021-01-01   0.0   0.0  0.0    0.0       0        4\n",
      "              Open         High          Low        Close        Volume\n",
      "count  5850.000000  5850.000000  5850.000000  5850.000000  5.850000e+03\n",
      "mean      1.061915     1.066007     1.058000     1.061898  2.209801e+05\n",
      "std       0.452472     0.454302     0.450707     0.452465  2.549794e+05\n",
      "min       0.000000     0.000000     0.000000     0.000000  0.000000e+00\n",
      "25%       1.090560     1.094330     1.085952     1.090152  2.274325e+04\n",
      "50%       1.176730     1.179875     1.173140     1.176735  1.671815e+05\n",
      "75%       1.333885     1.338548     1.328183     1.333865  2.576232e+05\n",
      "max       1.597490     1.603890     1.587890     1.597490  2.997191e+06\n",
      "------------------------------\n",
      "<class 'pandas.core.frame.DataFrame'>\n",
      "DatetimeIndex: 5850 entries, 2007-05-14 to 2023-05-19\n",
      "Freq: D\n",
      "Data columns (total 6 columns):\n",
      " #   Column   Non-Null Count  Dtype  \n",
      "---  ------   --------------  -----  \n",
      " 0   Open     5850 non-null   float64\n",
      " 1   High     5850 non-null   float64\n",
      " 2   Low      5850 non-null   float64\n",
      " 3   Close    5850 non-null   float64\n",
      " 4   Volume   5850 non-null   int64  \n",
      " 5   WeekDay  5850 non-null   int32  \n",
      "dtypes: float64(4), int32(1), int64(1)\n",
      "memory usage: 297.1 KB\n",
      "None\n",
      "------------------------------\n",
      "               Open     High      Low    Close  Volume  WeekDay\n",
      "2007-05-14  1.35378  1.35493  1.35357  1.35405  274786        0\n",
      "2007-05-15  1.35401  1.36071  1.35264  1.35917  667008        1\n",
      "2007-05-16  1.35915  1.36081  1.35035  1.35270  674245        2\n",
      "2007-05-17  1.35270  1.35421  1.34773  1.34915  666123        3\n",
      "2007-05-18  1.34919  1.35205  1.34648  1.35053  509342        4\n",
      "2007-05-19  0.00000  0.00000  0.00000  0.00000       0        5\n",
      "2007-05-20  1.35123  1.35288  1.35123  1.35159   78458        6\n",
      "2007-05-21  1.35153  1.35200  1.34359  1.34574  661192        0\n",
      "2007-05-22  1.34573  1.34744  1.34376  1.34497  663467        1\n",
      "2007-05-23  1.34495  1.35004  1.34149  1.34525  667774        2\n",
      "------------------------------\n",
      "Liczba brakujących wartości dla każdej kolumny:\n",
      "Open      0\n",
      "High      0\n",
      "Low       0\n",
      "Close     0\n",
      "Volume    0\n",
      "dtype: int64\n",
      "\n",
      "Łączna liczba brakujących wartości w danych: 0\n",
      "Liczba wartości zer (poza 'WeekDay') dla każdej kolumny:\n",
      "Open      838\n",
      "High      838\n",
      "Low       838\n",
      "Close     838\n",
      "Volume    838\n",
      "dtype: int64\n",
      "\n",
      "Łączna liczba wartości zer (poza 'WeekDay') w danych: 4190\n",
      "Liczba wartości zer dla każdego dnia tygodnia (poza 'WeekDay'):\n",
      "         Open  High  Low  Close  Volume\n",
      "WeekDay                                \n",
      "0           0     0    0      0       0\n",
      "1           0     0    0      0       0\n",
      "2           0     0    0      0       0\n",
      "3           0     0    0      0       0\n",
      "4           2     2    2      2       2\n",
      "5         835   835  835    835     835\n",
      "6           1     1    1      1       1\n"
     ]
    },
    {
     "data": {
      "image/png": "[encoded data removed]",
      "text/plain": [
       "<Figure size 1000x600 with 1 Axes>"
      ]
     },
     "metadata": {},
     "output_type": "display_data"
    }
   ],
   "source": [
    "df = getDataPandas()\n",
    "findMissingRecordsByWeekday(df,4)\n",
    "print(df.drop(columns='WeekDay').describe())\n",
    "print('------------------------------')\n",
    "print(df.info())\n",
    "print('------------------------------')\n",
    "print(df.head(10))\n",
    "print('------------------------------')\n",
    "checkDataQuality(df)\n",
    "plotValueOverTime(df,'Volume')"
   ]
  },
  {
   "cell_type": "code",
   "execution_count": 84,
   "metadata": {},
   "outputs": [
    {
     "name": "stdout",
     "output_type": "stream",
     "text": [
      "Brakujące rekordy dla dnia tygodnia 4:\n",
      "Empty DataFrame\n",
      "Columns: [Open, High, Low, Close, Volume, WeekDay]\n",
      "Index: []\n",
      "              Open         High          Low        Close        Volume\n",
      "count  5012.000000  5012.000000  5012.000000  5012.000000  5.012000e+03\n",
      "mean      1.239466     1.244242     1.234896     1.239446  2.579277e+05\n",
      "std       0.137320     0.138182     0.136441     0.137316  2.575953e+05\n",
      "min       0.956940     0.967070     0.953570     0.956880  4.970000e+02\n",
      "25%       1.121190     1.124775     1.118040     1.121220  8.103875e+04\n",
      "50%       1.216825     1.220240     1.213460     1.216740  1.915135e+05\n",
      "75%       1.350847     1.354922     1.345675     1.350245  2.829888e+05\n",
      "max       1.597490     1.603890     1.587890     1.597490  2.997191e+06\n",
      "------------------------------\n",
      "<class 'pandas.core.frame.DataFrame'>\n",
      "DatetimeIndex: 5012 entries, 2007-05-14 to 2023-05-19\n",
      "Data columns (total 6 columns):\n",
      " #   Column   Non-Null Count  Dtype  \n",
      "---  ------   --------------  -----  \n",
      " 0   Open     5012 non-null   float64\n",
      " 1   High     5012 non-null   float64\n",
      " 2   Low      5012 non-null   float64\n",
      " 3   Close    5012 non-null   float64\n",
      " 4   Volume   5012 non-null   int64  \n",
      " 5   WeekDay  5012 non-null   int32  \n",
      "dtypes: float64(4), int32(1), int64(1)\n",
      "memory usage: 254.5 KB\n",
      "None\n",
      "------------------------------\n",
      "               Open     High      Low    Close  Volume  WeekDay\n",
      "2007-05-14  1.35378  1.35493  1.35357  1.35405  274786        0\n",
      "2007-05-15  1.35401  1.36071  1.35264  1.35917  667008        1\n",
      "2007-05-16  1.35915  1.36081  1.35035  1.35270  674245        2\n",
      "2007-05-17  1.35270  1.35421  1.34773  1.34915  666123        3\n",
      "2007-05-18  1.34919  1.35205  1.34648  1.35053  509342        4\n",
      "2007-05-20  1.35123  1.35288  1.35123  1.35159   78458        6\n",
      "2007-05-21  1.35153  1.35200  1.34359  1.34574  661192        0\n",
      "2007-05-22  1.34573  1.34744  1.34376  1.34497  663467        1\n",
      "2007-05-23  1.34495  1.35004  1.34149  1.34525  667774        2\n",
      "2007-05-24  1.34522  1.34602  1.34152  1.34164  669238        3\n",
      "------------------------------\n",
      "Liczba brakujących wartości dla każdej kolumny:\n",
      "Open      0\n",
      "High      0\n",
      "Low       0\n",
      "Close     0\n",
      "Volume    0\n",
      "dtype: int64\n",
      "\n",
      "Łączna liczba brakujących wartości w danych: 0\n",
      "Liczba wartości zer (poza 'WeekDay') dla każdej kolumny:\n",
      "Open      0\n",
      "High      0\n",
      "Low       0\n",
      "Close     0\n",
      "Volume    0\n",
      "dtype: int64\n",
      "\n",
      "Łączna liczba wartości zer (poza 'WeekDay') w danych: 0\n",
      "Liczba wartości zer dla każdego dnia tygodnia (poza 'WeekDay'):\n",
      "         Open  High  Low  Close  Volume\n",
      "WeekDay                                \n",
      "0           0     0    0      0       0\n",
      "1           0     0    0      0       0\n",
      "2           0     0    0      0       0\n",
      "3           0     0    0      0       0\n",
      "4           0     0    0      0       0\n",
      "6           0     0    0      0       0\n"
     ]
    },
    {
     "data": {
      "image/png": "[encoded data removed]",
      "text/plain": [
       "<Figure size 1000x600 with 1 Axes>"
      ]
     },
     "metadata": {},
     "output_type": "display_data"
    }
   ],
   "source": [
    "df = getDataPandas()\n",
    "df = getNonZeroData(df)\n",
    "findMissingRecordsByWeekday(df,4)\n",
    "print(df.drop(columns='WeekDay').describe())\n",
    "print('------------------------------')\n",
    "print(df.info())\n",
    "print('------------------------------')\n",
    "print(df.head(10))\n",
    "print('------------------------------')\n",
    "checkDataQuality(df)\n",
    "plotValueOverTime(df,'Volume')"
   ]
  },
  {
   "cell_type": "code",
   "execution_count": 86,
   "metadata": {},
   "outputs": [
    {
     "name": "stdout",
     "output_type": "stream",
     "text": [
      "Brakujące rekordy dla dnia tygodnia 4:\n",
      "Empty DataFrame\n",
      "Columns: [Open, High, Low, Close, Volume, WeekDay]\n",
      "Index: []\n",
      "              Open         High          Low        Close        Volume\n",
      "count  3344.000000  3344.000000  3344.000000  3344.000000  3.344000e+03\n",
      "mean      1.239456     1.244876     1.234309     1.239463  3.101074e+05\n",
      "std       0.137286     0.138227     0.136250     0.137210  2.626946e+05\n",
      "min       0.956940     0.967070     0.953570     0.957230  4.421000e+03\n",
      "25%       1.121733     1.126013     1.118100     1.121563  1.546342e+05\n",
      "50%       1.216920     1.221410     1.213460     1.216885  2.180650e+05\n",
      "75%       1.350923     1.355637     1.344842     1.350840  3.328572e+05\n",
      "max       1.597490     1.603890     1.586430     1.597490  2.997191e+06\n",
      "------------------------------\n",
      "<class 'pandas.core.frame.DataFrame'>\n",
      "DatetimeIndex: 3344 entries, 2007-05-14 to 2023-05-18\n",
      "Data columns (total 6 columns):\n",
      " #   Column   Non-Null Count  Dtype  \n",
      "---  ------   --------------  -----  \n",
      " 0   Open     3344 non-null   float64\n",
      " 1   High     3344 non-null   float64\n",
      " 2   Low      3344 non-null   float64\n",
      " 3   Close    3344 non-null   float64\n",
      " 4   Volume   3344 non-null   int64  \n",
      " 5   WeekDay  3344 non-null   int32  \n",
      "dtypes: float64(4), int32(1), int64(1)\n",
      "memory usage: 169.8 KB\n",
      "None\n",
      "------------------------------\n",
      "               Open     High      Low    Close  Volume  WeekDay\n",
      "2007-05-14  1.35378  1.35493  1.35357  1.35405  274786        0\n",
      "2007-05-15  1.35401  1.36071  1.35264  1.35917  667008        1\n",
      "2007-05-16  1.35915  1.36081  1.35035  1.35270  674245        2\n",
      "2007-05-17  1.35270  1.35421  1.34773  1.34915  666123        3\n",
      "2007-05-21  1.35153  1.35200  1.34359  1.34574  661192        0\n",
      "2007-05-22  1.34573  1.34744  1.34376  1.34497  663467        1\n",
      "2007-05-23  1.34495  1.35004  1.34149  1.34525  667774        2\n",
      "2007-05-24  1.34522  1.34602  1.34152  1.34164  669238        3\n",
      "2007-05-28  1.34484  1.34579  1.34407  1.34445  658324        0\n",
      "2007-05-29  1.34432  1.35183  1.34192  1.34415  662003        1\n",
      "------------------------------\n",
      "Liczba brakujących wartości dla każdej kolumny:\n",
      "Open      0\n",
      "High      0\n",
      "Low       0\n",
      "Close     0\n",
      "Volume    0\n",
      "dtype: int64\n",
      "\n",
      "Łączna liczba brakujących wartości w danych: 0\n",
      "Liczba wartości zer (poza 'WeekDay') dla każdej kolumny:\n",
      "Open      0\n",
      "High      0\n",
      "Low       0\n",
      "Close     0\n",
      "Volume    0\n",
      "dtype: int64\n",
      "\n",
      "Łączna liczba wartości zer (poza 'WeekDay') w danych: 0\n",
      "Liczba wartości zer dla każdego dnia tygodnia (poza 'WeekDay'):\n",
      "         Open  High  Low  Close  Volume\n",
      "WeekDay                                \n",
      "0           0     0    0      0       0\n",
      "1           0     0    0      0       0\n",
      "2           0     0    0      0       0\n",
      "3           0     0    0      0       0\n"
     ]
    },
    {
     "data": {
      "image/png": "[encoded data removed]",
      "text/plain": [
       "<Figure size 1000x600 with 1 Axes>"
      ]
     },
     "metadata": {},
     "output_type": "display_data"
    }
   ],
   "source": [
    "df = getDataPandas()\n",
    "df = df.loc[df.index.weekday.isin([0,1,2,3])]\n",
    "findMissingRecordsByWeekday(df,4)\n",
    "print(df.drop(columns='WeekDay').describe())\n",
    "print('------------------------------')\n",
    "print(df.info())\n",
    "print('------------------------------')\n",
    "print(df.head(10))\n",
    "print('------------------------------')\n",
    "checkDataQuality(df)\n",
    "plotValueOverTime(df,'Volume')"
   ]
  },
  {
   "cell_type": "markdown",
   "id": "4bfdeb40934f1c75",
   "metadata": {
    "collapsed": false
   },
   "source": [
    "## Przykład 2 - Tworzenie obiektu DataFrame z obiektu Series"
   ]
  },
  {
   "cell_type": "markdown",
   "id": "c602d441f23cf487",
   "metadata": {
    "collapsed": false
   },
   "source": [
    "Przekształć obiekt quotations:"
   ]
  },
  {
   "cell_type": "code",
   "execution_count": 4,
   "id": "826e91d419a046a0",
   "metadata": {
    "collapsed": false
   },
   "outputs": [],
   "source": [
    "stocks = {\n",
    "    'PLW': 387.00,\n",
    "    'CDR': 339.5,\n",
    "    'TEN': 349.5,\n",
    "    '11B': 391.0,\n",
    "    'BBT': 25.5,\n",
    "    'F51': 19.2,\n",
    "}\n",
    "quotations = pd.Series(data=stocks)"
   ]
  },
  {
   "cell_type": "markdown",
   "id": "54765c6da7649907",
   "metadata": {
    "collapsed": false
   },
   "source": [
    "do obiektu DataFrame. Zresetuj indeks i nazwij kolumny `ticker` oraz `price`. Wydrukuj obiekt DataFrame do konsoli."
   ]
  },
  {
   "cell_type": "markdown",
   "id": "75a723a4a7ecfe82",
   "metadata": {
    "collapsed": false
   },
   "source": [
    "### Rozwiązanie"
   ]
  },
  {
   "cell_type": "code",
   "execution_count": 5,
   "id": "4506cf52a8d88825",
   "metadata": {
    "collapsed": false
   },
   "outputs": [
    {
     "name": "stdout",
     "output_type": "stream",
     "text": [
      "  ticker  price\n",
      "0    PLW  387.0\n",
      "1    CDR  339.5\n",
      "2    TEN  349.5\n",
      "3    11B  391.0\n",
      "4    BBT   25.5\n",
      "5    F51   19.2\n"
     ]
    }
   ],
   "source": [
    "stocks = {\n",
    "    'PLW': 387.00,\n",
    "    'CDR': 339.5,\n",
    "    'TEN': 349.5,\n",
    "    '11B': 391.0,\n",
    "    'BBT': 25.5,\n",
    "    'F51': 19.2,\n",
    "}\n",
    "quotations = pd.Series(data=stocks)\n",
    "quotations = pd.DataFrame(quotations).reset_index()\n",
    "quotations.columns = ['ticker', 'price']\n",
    "print(quotations)"
   ]
  },
  {
   "cell_type": "markdown",
   "id": "e3e69056e5c27f46",
   "metadata": {
    "collapsed": false
   },
   "source": [
    "## Przykład 3 - Tworzenie obiektu DataFrame i wypełnianie go danymi"
   ]
  },
  {
   "cell_type": "markdown",
   "id": "4978e29432ac857f",
   "metadata": {
    "collapsed": false
   },
   "source": [
    "Zbuduj obiekt DatetimeIndex zawierający daty w formacie `yyyy-mm-dd` dla wszystkich dni dla listopada 2023 roku i przypisz go do zmiennej date_range. Wydrukuj zawartość tej zmiennej do konsoli."
   ]
  },
  {
   "cell_type": "markdown",
   "id": "9ca672ca1c0f3208",
   "metadata": {
    "collapsed": false
   },
   "source": [
    "### Rozwiązanie - wariant 1"
   ]
  },
  {
   "cell_type": "code",
   "execution_count": null,
   "id": "4587cbc8a759f75e",
   "metadata": {
    "collapsed": false
   },
   "outputs": [],
   "source": [
    "date_range = pd.date_range(start='2023-11-01', periods=30)\n",
    "print(date_range)"
   ]
  },
  {
   "cell_type": "markdown",
   "id": "b5a5e7248680263",
   "metadata": {
    "collapsed": false
   },
   "source": [
    "### Rozwiązanie - wariant 2"
   ]
  },
  {
   "cell_type": "code",
   "execution_count": null,
   "id": "8a7e76f802f06ec3",
   "metadata": {
    "collapsed": false
   },
   "outputs": [],
   "source": [
    "date_range = pd.date_range(start='2023-11-01', end='2023-11-30')\n",
    "print(date_range)"
   ]
  },
  {
   "cell_type": "markdown",
   "id": "24ab3b2fb11230a4",
   "metadata": {
    "collapsed": false
   },
   "source": [
    "# Zadania do samodzielnego wykonania"
   ]
  },
  {
   "cell_type": "markdown",
   "id": "4cee95e32bcbd29e",
   "metadata": {
    "collapsed": false
   },
   "source": [
    "## Ćwiczenie 1"
   ]
  },
  {
   "cell_type": "markdown",
   "id": "92e7f08549810f76",
   "metadata": {
    "collapsed": false
   },
   "source": [
    "Z podanego słownika:"
   ]
  },
  {
   "cell_type": "code",
   "execution_count": 6,
   "id": "c0fa1d8339c7211e",
   "metadata": {
    "collapsed": false
   },
   "outputs": [],
   "source": [
    "stocks = {'PLW': 387.00, 'CDR': 339.5, 'TEN': 349.5, '11B': 391.0}"
   ]
  },
  {
   "cell_type": "markdown",
   "id": "2f050785b574e135",
   "metadata": {
    "collapsed": false
   },
   "source": [
    "utwórz obiekt typu Series i przypisz do zmiennej quotations. Zawartość zmiennej quotations wydrukuj do konsoli."
   ]
  },
  {
   "cell_type": "markdown",
   "id": "aacae5bc1a266c",
   "metadata": {
    "collapsed": false
   },
   "source": [
    "### Miejsce na rozwiązanie"
   ]
  },
  {
   "cell_type": "code",
   "execution_count": 8,
   "id": "9cd623f7ba7103cf",
   "metadata": {
    "collapsed": false
   },
   "outputs": [
    {
     "name": "stdout",
     "output_type": "stream",
     "text": [
      "PLW    387.0\n",
      "CDR    339.5\n",
      "TEN    349.5\n",
      "11B    391.0\n",
      "dtype: float64\n"
     ]
    }
   ],
   "source": [
    "quotations = pd.Series(data=stocks)\n",
    "print(quotations)"
   ]
  },
  {
   "cell_type": "markdown",
   "id": "75b9f1c0184964ca",
   "metadata": {
    "collapsed": false
   },
   "source": [
    "## Ćwiczenie 2"
   ]
  },
  {
   "cell_type": "markdown",
   "id": "f4f5bee50e8ab07f",
   "metadata": {
    "collapsed": false
   },
   "source": [
    "Podana jest zmienna quotations (obiekt typu Series):"
   ]
  },
  {
   "cell_type": "code",
   "execution_count": null,
   "id": "965fd47e3383ce02",
   "metadata": {
    "collapsed": false
   },
   "outputs": [],
   "source": [
    "stocks = {'PLW': 387.00, 'CDR': 339.5, 'TEN': 349.5, '11B': 391.0}\n",
    "quotations = pd.Series(data=stocks)"
   ]
  },
  {
   "cell_type": "markdown",
   "id": "e8392a0a45e30877",
   "metadata": {
    "collapsed": false
   },
   "source": [
    "Przekształć obiekt quotations na listę. Wynik wydrukuj do konsoli."
   ]
  },
  {
   "cell_type": "markdown",
   "id": "ed6c345906ab79d0",
   "metadata": {
    "collapsed": false
   },
   "source": [
    "### Miejsce na rozwiązanie"
   ]
  },
  {
   "cell_type": "code",
   "execution_count": 9,
   "id": "79de92ce7d7b06c0",
   "metadata": {
    "collapsed": false
   },
   "outputs": [
    {
     "name": "stdout",
     "output_type": "stream",
     "text": [
      "[387.0, 339.5, 349.5, 391.0]\n"
     ]
    }
   ],
   "source": [
    "print(quotations.to_list())"
   ]
  },
  {
   "cell_type": "markdown",
   "id": "f10ec758558f2c23",
   "metadata": {
    "collapsed": false
   },
   "source": [
    "## Ćwiczenie 3"
   ]
  },
  {
   "cell_type": "markdown",
   "id": "3aae1fb787546bb9",
   "metadata": {
    "collapsed": false
   },
   "source": [
    "Przekształć obiekt quotations na obiekt typu DataFrame. Ustaw nazwę kolumny na price."
   ]
  },
  {
   "cell_type": "code",
   "execution_count": 11,
   "id": "4983c2c576ad182a",
   "metadata": {
    "collapsed": false
   },
   "outputs": [],
   "source": [
    "stocks = {'PLW': 387.00, 'CDR': 339.5, 'TEN': 349.5, '11B': 391.0}\n",
    "quotations = pd.Series(data=stocks)"
   ]
  },
  {
   "cell_type": "markdown",
   "id": "ebf6648c756b871b",
   "metadata": {
    "collapsed": false
   },
   "source": [
    "Wydrukuj wynik do konsoli."
   ]
  },
  {
   "cell_type": "markdown",
   "id": "384c0eebd1804b7f",
   "metadata": {
    "collapsed": false
   },
   "source": [
    "### Miejsce na rozwiązanie"
   ]
  },
  {
   "cell_type": "code",
   "execution_count": 15,
   "id": "255196fe0769a9f5",
   "metadata": {
    "collapsed": false
   },
   "outputs": [
    {
     "name": "stdout",
     "output_type": "stream",
     "text": [
      "  ticker  price\n",
      "0    PLW  387.0\n",
      "1    CDR  339.5\n",
      "2    TEN  349.5\n",
      "3    11B  391.0\n"
     ]
    }
   ],
   "source": [
    "quotations = pd.DataFrame(data = quotations, columns=['ticker', 'price'])\n",
    "print(quotations)"
   ]
  },
  {
   "cell_type": "markdown",
   "id": "bbde43ebb3c19b15",
   "metadata": {
    "collapsed": false
   },
   "source": [
    "## Ćwiczenie 4"
   ]
  },
  {
   "cell_type": "markdown",
   "id": "ce5be05f2dcdaa0a",
   "metadata": {
    "collapsed": false
   },
   "source": [
    "Używając bibliotek numpy i pandas zbuduj następujący obiekt Series:\n",
    "    101    10.0\n",
    "    102    20.0\n",
    "    103    30.0\n",
    "    104    40.0\n",
    "    105    50.0\n",
    "    106    60.0\n",
    "    107    70.0\n",
    "    108    80.0\n",
    "    109    90.0\n",
    "    dtype: float64"
   ]
  },
  {
   "cell_type": "markdown",
   "id": "41e801f5e44769f2",
   "metadata": {
    "collapsed": false
   },
   "source": [
    "Wydrukuj wynik do konsoli.\n",
    "Wskazówka: Użyj funkcji `np.arange()`.\n",
    "### Miejsce na rozwiązanie"
   ]
  },
  {
   "cell_type": "code",
   "execution_count": 61,
   "id": "a7bc8a13feeea31",
   "metadata": {
    "collapsed": false
   },
   "outputs": [
    {
     "name": "stdout",
     "output_type": "stream",
     "text": [
      "101    10.0\n",
      "102    20.0\n",
      "103    30.0\n",
      "104    40.0\n",
      "105    50.0\n",
      "106    60.0\n",
      "107    70.0\n",
      "108    80.0\n",
      "109    90.0\n",
      "dtype: float64\n"
     ]
    }
   ],
   "source": [
    "data = np.arange(10., 91., 10., dtype=float)\n",
    "index = np.arange(101, 110, dtype=int)\n",
    "quotations = pd.Series(data=data,index=index)\n",
    "print(quotations)"
   ]
  },
  {
   "cell_type": "markdown",
   "id": "c7aaa8e7e4c97ba6",
   "metadata": {
    "collapsed": false
   },
   "source": [
    "## Ćwiczenie 5"
   ]
  },
  {
   "cell_type": "markdown",
   "id": "8dce13cd0a5c0806",
   "metadata": {
    "collapsed": false
   },
   "source": [
    "Podany jest następujący obiekt typu Series:"
   ]
  },
  {
   "cell_type": "code",
   "execution_count": 3,
   "id": "ea340b95bff9da8f",
   "metadata": {
    "collapsed": false
   },
   "outputs": [],
   "source": [
    "series = pd.Series(['001', '002', '003', '004'], list('abcd'))"
   ]
  },
  {
   "cell_type": "markdown",
   "id": "5feff15653dc43c6",
   "metadata": {
    "collapsed": false
   },
   "source": [
    "Zmień typ danych obiektu na int. Wydrukuj wynik do konsoli."
   ]
  },
  {
   "cell_type": "markdown",
   "id": "9874dc66f78aa1e9",
   "metadata": {
    "collapsed": false
   },
   "source": [
    "### Miejsce na rozwiązanie"
   ]
  },
  {
   "cell_type": "code",
   "execution_count": 4,
   "id": "df631c02d83f175b",
   "metadata": {
    "collapsed": false
   },
   "outputs": [
    {
     "name": "stdout",
     "output_type": "stream",
     "text": [
      "a    1\n",
      "b    2\n",
      "c    3\n",
      "d    4\n",
      "dtype: int32\n"
     ]
    }
   ],
   "source": [
    "series = series.astype('int')\n",
    "print(series)"
   ]
  },
  {
   "cell_type": "markdown",
   "id": "4696a870de64c274",
   "metadata": {
    "collapsed": false
   },
   "source": [
    "## Ćwiczenie 6"
   ]
  },
  {
   "cell_type": "markdown",
   "id": "ad4035b3f4aafa77",
   "metadata": {
    "collapsed": false
   },
   "source": [
    "Podany jest następujący obiekt quotations:"
   ]
  },
  {
   "cell_type": "code",
   "execution_count": 63,
   "id": "42190a883164f91e",
   "metadata": {
    "collapsed": false
   },
   "outputs": [
    {
     "name": "stdout",
     "output_type": "stream",
     "text": [
      "PLW    387.0\n",
      "CDR    339.5\n",
      "TEN    349.5\n",
      "11B    391.0\n",
      "dtype: float64\n"
     ]
    }
   ],
   "source": [
    "stocks = {'PLW': 387.00, 'CDR': 339.5, 'TEN': 349.5, '11B': 391.0}\n",
    "quotations = pd.Series(data=stocks)\n",
    "print(quotations)"
   ]
  },
  {
   "cell_type": "markdown",
   "id": "56e7755da51a0238",
   "metadata": {
    "collapsed": false
   },
   "source": [
    "Dodaj do niego dwa elementy:\n",
    "- klucz: BBT, wartość: 25.5\n",
    "- klucz: F51, wartość: 19.2\n",
    "\n",
    "Wydrukuj zawartość zmiennej quotations do konsoli."
   ]
  },
  {
   "cell_type": "markdown",
   "id": "2188e18068d5ef7b",
   "metadata": {
    "collapsed": false
   },
   "source": [
    "### Miejsce na rozwiązanie"
   ]
  },
  {
   "cell_type": "code",
   "execution_count": 64,
   "id": "c43193199123b1bc",
   "metadata": {
    "collapsed": false
   },
   "outputs": [
    {
     "name": "stdout",
     "output_type": "stream",
     "text": [
      "PLW    387.0\n",
      "CDR    339.5\n",
      "TEN    349.5\n",
      "11B    391.0\n",
      "BBT     25.5\n",
      "F51     19.2\n",
      "dtype: float64\n"
     ]
    }
   ],
   "source": [
    "quotations['BBT'] = 25.5\n",
    "quotations['F51'] = 19.2\n",
    "print(quotations)"
   ]
  },
  {
   "cell_type": "markdown",
   "id": "496629947ea6550b",
   "metadata": {
    "collapsed": false
   },
   "source": [
    "## Ćwiczenie 7"
   ]
  },
  {
   "cell_type": "markdown",
   "id": "63acecf9dbe22f9f",
   "metadata": {
    "collapsed": false
   },
   "source": [
    "Zbuduj poniższy obiekt DataFrame i przypisz go do zmiennej companies:\n",
    "<img src=\"img/1.png\">\n",
    "    \n",
    "Wydrukuj obiekt do konsoli.\n"
   ]
  },
  {
   "cell_type": "markdown",
   "id": "c50bf63837c41c39",
   "metadata": {
    "collapsed": false
   },
   "source": [
    "### Miejsce na rozwiązanie"
   ]
  },
  {
   "cell_type": "code",
   "execution_count": 5,
   "id": "a6751ad991d4a54d",
   "metadata": {
    "collapsed": false
   },
   "outputs": [
    {
     "name": "stdout",
     "output_type": "stream",
     "text": [
      "     company   price   ticker\n",
      "0     Amazon  2375.0  AMZU.US\n",
      "1  Microsoft   178.6  MSFT.US\n",
      "2   Facebook   179.2    FB.US\n"
     ]
    }
   ],
   "source": [
    "companies = pd.DataFrame(np.array([['Amazon', 'Microsoft', 'Facebook'], [2375.0, 178.6, 179.2], ['AMZU.US', 'MSFT.US', 'FB.US']]).T ,columns=['company', 'price', 'ticker'])\n",
    "print(companies)"
   ]
  },
  {
   "cell_type": "markdown",
   "id": "4a65028c892c4bc8",
   "metadata": {
    "collapsed": false
   },
   "source": [
    "## Ćwiczenie 8"
   ]
  },
  {
   "cell_type": "markdown",
   "id": "80df71baa84113a",
   "metadata": {
    "collapsed": false
   },
   "source": [
    "Przekształć pierwszą kolumnę obiektu companies na indeks. Wydrukuj obiekt do konsoli."
   ]
  },
  {
   "cell_type": "code",
   "execution_count": 80,
   "id": "818f039e76804759",
   "metadata": {
    "collapsed": false
   },
   "outputs": [],
   "source": [
    "data_dict = {\n",
    "    'company': ['Amazon', 'Microsoft', 'Facebook'],\n",
    "    'price': [2375.00, 178.6, 179.2],\n",
    "    'ticker': ['AMZN.US', 'MSFT.US', 'FB.US']\n",
    "}\n",
    "\n",
    "companies = pd.DataFrame(data=data_dict)"
   ]
  },
  {
   "cell_type": "markdown",
   "id": "c9ab028cfaf6f82c",
   "metadata": {
    "collapsed": false
   },
   "source": [
    "### Miejsce na rozwiązanie"
   ]
  },
  {
   "cell_type": "code",
   "execution_count": 82,
   "id": "a8efd404457f5ff1",
   "metadata": {
    "collapsed": false
   },
   "outputs": [
    {
     "name": "stdout",
     "output_type": "stream",
     "text": [
      "            price   ticker\n",
      "company                   \n",
      "Amazon     2375.0  AMZN.US\n",
      "Microsoft   178.6  MSFT.US\n",
      "Facebook    179.2    FB.US\n"
     ]
    }
   ],
   "source": [
    "companies = companies.set_index('company')\n",
    "print(companies)"
   ]
  },
  {
   "cell_type": "markdown",
   "id": "e6aedb4b8e5851c",
   "metadata": {
    "collapsed": false
   },
   "source": [
    "## Ćwiczenie 9"
   ]
  },
  {
   "cell_type": "markdown",
   "id": "b113e774227042b9",
   "metadata": {
    "collapsed": false
   },
   "source": [
    "Zbuduj obiekt DatetimeIndex zawierający daty w formacie `yyyy-mm-dd` dla wszystkich dni dla stycznia 2020 roku i przypisz go do zmiennej date_range. Wydrukuj zawartość tej zmiennej do konsoli."
   ]
  },
  {
   "cell_type": "markdown",
   "id": "ed4ff96f2ba0cd47",
   "metadata": {
    "collapsed": false
   },
   "source": [
    "### Miejsce na rozwiązanie"
   ]
  },
  {
   "cell_type": "code",
   "execution_count": 44,
   "id": "c49ce0bf5dfb2cfe",
   "metadata": {
    "collapsed": false
   },
   "outputs": [
    {
     "name": "stdout",
     "output_type": "stream",
     "text": [
      "DatetimeIndex(['2020-01-01', '2020-01-02', '2020-01-03', '2020-01-04',\n",
      "               '2020-01-05', '2020-01-06', '2020-01-07', '2020-01-08',\n",
      "               '2020-01-09', '2020-01-10', '2020-01-11', '2020-01-12',\n",
      "               '2020-01-13', '2020-01-14', '2020-01-15', '2020-01-16',\n",
      "               '2020-01-17', '2020-01-18', '2020-01-19', '2020-01-20',\n",
      "               '2020-01-21', '2020-01-22', '2020-01-23', '2020-01-24',\n",
      "               '2020-01-25', '2020-01-26', '2020-01-27', '2020-01-28',\n",
      "               '2020-01-29', '2020-01-30', '2020-01-31'],\n",
      "              dtype='datetime64[ns]', freq='D')\n"
     ]
    }
   ],
   "source": [
    "# from datetime import date\n",
    "# today = date.today()\n",
    "date_range = pd.date_range(start='2020-01-01', end='2020-01-31')\n",
    "print(date_range)"
   ]
  },
  {
   "cell_type": "markdown",
   "id": "558a184b94674131",
   "metadata": {
    "collapsed": false
   },
   "source": [
    "## Ćwiczenie 10"
   ]
  },
  {
   "cell_type": "markdown",
   "id": "1587384ae60a6902",
   "metadata": {
    "collapsed": false
   },
   "source": [
    "Zbuduj obiekt DatetimeIndex zawierający daty w formacie `yyyy-mm-dd` dla wszystkich poniedziałków z 2020 r. i przypisz go do zmiennej date_range. Wydrukuj zawartość tej zmiennej do konsoli."
   ]
  },
  {
   "cell_type": "markdown",
   "id": "6822b2429f1d3596",
   "metadata": {
    "collapsed": false
   },
   "source": [
    "### Miejsce na rozwiązanie"
   ]
  },
  {
   "cell_type": "code",
   "execution_count": 45,
   "id": "8f275b0802072d5f",
   "metadata": {
    "collapsed": false
   },
   "outputs": [
    {
     "name": "stdout",
     "output_type": "stream",
     "text": [
      "DatetimeIndex(['2020-01-06', '2020-01-13', '2020-01-20', '2020-01-27'], dtype='datetime64[ns]', freq='W-MON')\n"
     ]
    }
   ],
   "source": [
    "date_range = pd.date_range(start='2020-01-01', end='2020-01-31',freq=\"W-MON\")\n",
    "print(date_range)"
   ]
  },
  {
   "cell_type": "markdown",
   "id": "a65c4f43efa5b4eb",
   "metadata": {
    "collapsed": false
   },
   "source": [
    "## Ćwiczenie 11"
   ]
  },
  {
   "cell_type": "markdown",
   "id": "a90c7cd47543fcd4",
   "metadata": {
    "collapsed": false
   },
   "source": [
    "Zbuduj obiekt DatetimeIndex zawierający daty w formacie `yyyy-mm-dd hh: mm: ss` dla 1 stycznia 2021 roku z interwałem czasowym 1h i przypisz do zmiennej date_range. Wydrukuj zawartość tej zmiennej do konsoli."
   ]
  },
  {
   "cell_type": "markdown",
   "id": "4f01a33e24ddee6a",
   "metadata": {
    "collapsed": false
   },
   "source": [
    "### Miejsce na rozwiązanie"
   ]
  },
  {
   "cell_type": "code",
   "execution_count": 52,
   "id": "cfffa727d292ef87",
   "metadata": {
    "collapsed": false
   },
   "outputs": [
    {
     "name": "stdout",
     "output_type": "stream",
     "text": [
      "DatetimeIndex(['2021-01-01 00:00:00', '2021-01-01 01:00:00',\n",
      "               '2021-01-01 02:00:00', '2021-01-01 03:00:00',\n",
      "               '2021-01-01 04:00:00', '2021-01-01 05:00:00',\n",
      "               '2021-01-01 06:00:00', '2021-01-01 07:00:00',\n",
      "               '2021-01-01 08:00:00', '2021-01-01 09:00:00',\n",
      "               '2021-01-01 10:00:00', '2021-01-01 11:00:00',\n",
      "               '2021-01-01 12:00:00', '2021-01-01 13:00:00',\n",
      "               '2021-01-01 14:00:00', '2021-01-01 15:00:00',\n",
      "               '2021-01-01 16:00:00', '2021-01-01 17:00:00',\n",
      "               '2021-01-01 18:00:00', '2021-01-01 19:00:00',\n",
      "               '2021-01-01 20:00:00', '2021-01-01 21:00:00',\n",
      "               '2021-01-01 22:00:00', '2021-01-01 23:00:00'],\n",
      "              dtype='datetime64[ns]', freq='H')\n"
     ]
    }
   ],
   "source": [
    "date_range = pd.date_range(start='2021-01-01 00:00:00', end='2021-01-01 23:59:59',freq=\"H\")\n",
    "print(date_range)"
   ]
  },
  {
   "cell_type": "markdown",
   "id": "37a0ec03766aff49",
   "metadata": {
    "collapsed": false
   },
   "source": [
    "## Ćwiczenie 12"
   ]
  },
  {
   "cell_type": "markdown",
   "id": "d063ec45571af8c8",
   "metadata": {
    "collapsed": false
   },
   "source": [
    "Zbuduj obiekt DataFrame określony poniżej i wydrukuj do konsoli.\n",
    "  -  Kolumna day ma zawierać daty od 1 marca 2023 roku do o 31 marca 2023 roku włącznie. \n",
    "  - Kolumna day_of_year to numer dnia w całym roku"
   ]
  },
  {
   "cell_type": "markdown",
   "id": "e4f7eb8f15c64d19",
   "metadata": {
    "collapsed": false
   },
   "source": [
    "### Miejsce na rozwiązanie"
   ]
  },
  {
   "cell_type": "code",
   "execution_count": 55,
   "id": "1f95b906c095b032",
   "metadata": {
    "collapsed": false
   },
   "outputs": [
    {
     "name": "stdout",
     "output_type": "stream",
     "text": [
      "          day  day_of_year\n",
      "0  2023-03-01           60\n",
      "1  2023-03-02           61\n",
      "2  2023-03-03           62\n",
      "3  2023-03-04           63\n",
      "4  2023-03-05           64\n",
      "5  2023-03-06           65\n",
      "6  2023-03-07           66\n",
      "7  2023-03-08           67\n",
      "8  2023-03-09           68\n",
      "9  2023-03-10           69\n",
      "10 2023-03-11           70\n",
      "11 2023-03-12           71\n",
      "12 2023-03-13           72\n",
      "13 2023-03-14           73\n",
      "14 2023-03-15           74\n",
      "15 2023-03-16           75\n",
      "16 2023-03-17           76\n",
      "17 2023-03-18           77\n",
      "18 2023-03-19           78\n",
      "19 2023-03-20           79\n",
      "20 2023-03-21           80\n",
      "21 2023-03-22           81\n",
      "22 2023-03-23           82\n",
      "23 2023-03-24           83\n",
      "24 2023-03-25           84\n",
      "25 2023-03-26           85\n",
      "26 2023-03-27           86\n",
      "27 2023-03-28           87\n",
      "28 2023-03-29           88\n",
      "29 2023-03-30           89\n",
      "30 2023-03-31           90\n"
     ]
    }
   ],
   "source": [
    "day = pd.date_range(start='2023-03-01', end='2023-03-31',freq=\"D\")\n",
    "day_of_year = day.day_of_year\n",
    "dataFrame = pd.DataFrame({'day':day,'day_of_year':day_of_year})\n",
    "print(dataFrame)"
   ]
  },
  {
   "cell_type": "markdown",
   "id": "f601b826139368d2",
   "metadata": {
    "collapsed": false
   },
   "source": [
    "## Ćwiczenie 13"
   ]
  },
  {
   "cell_type": "markdown",
   "id": "2fca3b6e6f0e4c",
   "metadata": {
    "collapsed": false
   },
   "source": [
    "Podany jest następujący słownik data_dict:"
   ]
  },
  {
   "cell_type": "code",
   "execution_count": 56,
   "id": "d91b1f888fad358e",
   "metadata": {
    "collapsed": false
   },
   "outputs": [],
   "source": [
    "data_dict = {\n",
    "    'normal': np.random.normal(loc=0, scale=1, size=1000),\n",
    "    'uniform': np.random.uniform(low=0, high=1, size=1000),\n",
    "    'binomial': np.random.binomial(n=1, p=0.2, size=1000)\n",
    "}"
   ]
  },
  {
   "cell_type": "markdown",
   "id": "94358c8389c8f318",
   "metadata": {
    "collapsed": false
   },
   "source": [
    "Zbuduj obiekt DateFrame z tego słownika. Dodatkowo jako indeks dodaj datę od 01.01.2023. Obiekt przypisz do zmiennej df. Wydrukuj zawartość zmiennej df do konsoli."
   ]
  },
  {
   "cell_type": "markdown",
   "id": "9c95299606556ee",
   "metadata": {
    "collapsed": false
   },
   "source": [
    "### Miejsce na rozwiązanie"
   ]
  },
  {
   "cell_type": "code",
   "execution_count": 68,
   "id": "1848a4b2bd5a32d6",
   "metadata": {
    "collapsed": false
   },
   "outputs": [
    {
     "name": "stdout",
     "output_type": "stream",
     "text": [
      "DatetimeIndex(['2023-01-01', '2023-01-02', '2023-01-03', '2023-01-04',\n",
      "               '2023-01-05', '2023-01-06', '2023-01-07', '2023-01-08',\n",
      "               '2023-01-09', '2023-01-10',\n",
      "               ...\n",
      "               '2025-09-17', '2025-09-18', '2025-09-19', '2025-09-20',\n",
      "               '2025-09-21', '2025-09-22', '2025-09-23', '2025-09-24',\n",
      "               '2025-09-25', '2025-09-26'],\n",
      "              dtype='datetime64[ns]', length=1000, freq='D')\n",
      "              normal   uniform  binomial\n",
      "2023-01-01  0.003435  0.605525         0\n",
      "2023-01-02 -2.469926  0.276617         0\n",
      "2023-01-03 -0.078219  0.039728         0\n",
      "2023-01-04  0.210007  0.262052         0\n",
      "2023-01-05 -0.329299  0.154151         0\n",
      "...              ...       ...       ...\n",
      "2025-09-22  0.963499  0.056656         0\n",
      "2025-09-23 -1.534106  0.194315         1\n",
      "2025-09-24 -1.516038  0.574210         1\n",
      "2025-09-25  2.522327  0.110657         0\n",
      "2025-09-26 -1.476837  0.935417         0\n",
      "\n",
      "[1000 rows x 3 columns]\n"
     ]
    }
   ],
   "source": [
    "df = pd.DataFrame(data_dict)\n",
    "day = pd.date_range(start='2023-01-01', periods=1000,freq=\"D\")\n",
    "print(day)\n",
    "df.index = day\n",
    "print(df)"
   ]
  },
  {
   "cell_type": "markdown",
   "id": "4f4413af3ceea30e",
   "metadata": {
    "collapsed": false
   },
   "source": [
    "## Ćwiczenie 14"
   ]
  },
  {
   "cell_type": "markdown",
   "id": "f10932c903cdb601",
   "metadata": {
    "collapsed": false
   },
   "source": [
    "Podany jest obiekt df. Wykonaj poniższe polecenia:\n",
    "- wydrukuj pierwsze 10 wierszy tego obiektu,\n",
    "- wydrukuj pustą linię,\n",
    "- wydrukuj ostatnie 5 wierszy tego obiektu."
   ]
  },
  {
   "cell_type": "code",
   "execution_count": null,
   "id": "27348f68dff138a5",
   "metadata": {
    "collapsed": false
   },
   "outputs": [],
   "source": [
    "data_dict = {\n",
    "    'normal': np.random.normal(loc=0, scale=1, size=1000),\n",
    "    'uniform': np.random.uniform(low=0, high=1, size=1000),\n",
    "    'binomial': np.random.binomial(n=1, p=0.2, size=1000)\n",
    "}\n",
    "\n",
    "df = pd.DataFrame(data=data_dict, index=pd.date_range('2024-01-01', periods=1000))"
   ]
  },
  {
   "cell_type": "markdown",
   "id": "5f985ba5960f0f7",
   "metadata": {
    "collapsed": false
   },
   "source": [
    "### Miejsce na rozwiązanie"
   ]
  },
  {
   "cell_type": "code",
   "execution_count": 83,
   "id": "bd78cd7fefde843f",
   "metadata": {
    "collapsed": false
   },
   "outputs": [
    {
     "name": "stdout",
     "output_type": "stream",
     "text": [
      "              normal   uniform  binomial\n",
      "2023-01-01  0.003435  0.605525         0\n",
      "2023-01-02 -2.469926  0.276617         0\n",
      "2023-01-03 -0.078219  0.039728         0\n",
      "2023-01-04  0.210007  0.262052         0\n",
      "2023-01-05 -0.329299  0.154151         0\n",
      "2023-01-06  1.051329  0.033853         0\n",
      "2023-01-07  0.139328  0.356903         0\n",
      "2023-01-08 -0.288102  0.589430         0\n",
      "2023-01-09  0.649762  0.956088         0\n",
      "2023-01-10 -0.631742  0.609382         0\n",
      "\n",
      "              normal   uniform  binomial\n",
      "2025-09-22  0.963499  0.056656         0\n",
      "2025-09-23 -1.534106  0.194315         1\n",
      "2025-09-24 -1.516038  0.574210         1\n",
      "2025-09-25  2.522327  0.110657         0\n",
      "2025-09-26 -1.476837  0.935417         0\n"
     ]
    }
   ],
   "source": [
    "print(df.head(10))\n",
    "print()\n",
    "print(df.tail(5))"
   ]
  },
  {
   "cell_type": "markdown",
   "id": "1aa2e6c120c07d32",
   "metadata": {
    "collapsed": false
   },
   "source": [
    "## Ćwiczenie 15"
   ]
  },
  {
   "cell_type": "markdown",
   "id": "b06564579f9c220",
   "metadata": {
    "collapsed": false
   },
   "source": [
    "Wyświetl podstawowe informacje o obiekcie df (liczba wierszy, liczba kolumn, typ zmiennych) wykorzystując metodę `pd.DataFrame.info()`, następnie wydrukuj pustą linię i wydrukuj podstawowe statystyki obiektu df (wartość średnia, odchylenie, min, max, mediana) za pomocą metody `pd.DataFrame.describe()`."
   ]
  },
  {
   "cell_type": "code",
   "execution_count": 84,
   "id": "6ddf639bfa67b08a",
   "metadata": {
    "collapsed": false
   },
   "outputs": [],
   "source": [
    "data_dict = {\n",
    "    'normal': np.random.normal(loc=0, scale=1, size=1000),\n",
    "    'uniform': np.random.uniform(low=0, high=1, size=1000),\n",
    "    'binomial': np.random.binomial(n=1, p=0.2, size=1000)\n",
    "}\n",
    "\n",
    "df = pd.DataFrame(data=data_dict, index=pd.date_range('2023-01-01', periods=1000))"
   ]
  },
  {
   "cell_type": "markdown",
   "id": "431974c6eaa4d05f",
   "metadata": {
    "collapsed": false
   },
   "source": [
    "### Miejsce na rozwiązanie"
   ]
  },
  {
   "cell_type": "code",
   "execution_count": 85,
   "id": "340f1030b889b674",
   "metadata": {
    "collapsed": false
   },
   "outputs": [
    {
     "name": "stdout",
     "output_type": "stream",
     "text": [
      "<class 'pandas.core.frame.DataFrame'>\n",
      "DatetimeIndex: 1000 entries, 2023-01-01 to 2025-09-26\n",
      "Freq: D\n",
      "Data columns (total 3 columns):\n",
      " #   Column    Non-Null Count  Dtype  \n",
      "---  ------    --------------  -----  \n",
      " 0   normal    1000 non-null   float64\n",
      " 1   uniform   1000 non-null   float64\n",
      " 2   binomial  1000 non-null   int32  \n",
      "dtypes: float64(2), int32(1)\n",
      "memory usage: 27.3 KB\n",
      "None\n",
      "\n",
      "            normal      uniform     binomial\n",
      "count  1000.000000  1000.000000  1000.000000\n",
      "mean     -0.023490     0.496771     0.203000\n",
      "std       0.992543     0.288250     0.402434\n",
      "min      -2.968528     0.000014     0.000000\n",
      "25%      -0.736432     0.258528     0.000000\n",
      "50%       0.003725     0.484261     0.000000\n",
      "75%       0.671296     0.756987     0.000000\n",
      "max       2.771975     0.999673     1.000000\n"
     ]
    }
   ],
   "source": [
    "print(df.info())\n",
    "print()\n",
    "print(df.describe())"
   ]
  },
  {
   "cell_type": "markdown",
   "id": "18a559d13def9abe",
   "metadata": {
    "collapsed": false
   },
   "source": [
    "## Ćwiczenie 16"
   ]
  },
  {
   "cell_type": "markdown",
   "id": "c5ba33bf568209b5",
   "metadata": {
    "collapsed": false
   },
   "source": [
    "Znajdź rozkład wartości zmiennej binomial z obiektu DataFrame podanego poniżej. Wydrukuj wynik do konsoli.\n",
    "Wskazówka: Użyj `pd.Series.value_counts()`."
   ]
  },
  {
   "cell_type": "code",
   "execution_count": 86,
   "id": "112abf11daf51ef5",
   "metadata": {
    "collapsed": false
   },
   "outputs": [],
   "source": [
    "data_dict = {\n",
    "    'normal': np.random.normal(loc=0, scale=1, size=1000),\n",
    "    'uniform': np.random.uniform(low=0, high=1, size=1000),\n",
    "    'binomial': np.random.binomial(n=1, p=0.2, size=1000)\n",
    "}\n",
    "\n",
    "df = pd.DataFrame(data=data_dict, index=pd.date_range('2023-01-01', periods=1000))"
   ]
  },
  {
   "cell_type": "markdown",
   "id": "d68d0440d6819978",
   "metadata": {
    "collapsed": false
   },
   "source": [
    "### Miejsce na rozwiązanie"
   ]
  },
  {
   "cell_type": "code",
   "execution_count": 95,
   "id": "1c5317d5655b5407",
   "metadata": {
    "collapsed": false
   },
   "outputs": [
    {
     "name": "stdout",
     "output_type": "stream",
     "text": [
      "binomial\n",
      "0    808\n",
      "1    192\n",
      "Name: count, dtype: int64\n"
     ]
    }
   ],
   "source": [
    "print(df['binomial'].value_counts())"
   ]
  },
  {
   "cell_type": "markdown",
   "id": "4a5de8f98db42f44",
   "metadata": {
    "collapsed": false
   },
   "source": [
    "## Ćwiczenie 17"
   ]
  },
  {
   "cell_type": "markdown",
   "id": "8c3a8c0260f9bc79",
   "metadata": {
    "collapsed": false
   },
   "source": [
    "Wyodrębnij pierwsze 50 rekordów z obiektu df i zapisz do pliku o nazwie `dataframe50.csv`."
   ]
  },
  {
   "cell_type": "code",
   "execution_count": 90,
   "id": "18772962e8c4d48d",
   "metadata": {
    "collapsed": false
   },
   "outputs": [],
   "source": [
    "data_dict = {\n",
    "    'normal': np.random.normal(loc=0, scale=1, size=1000),\n",
    "    'uniform': np.random.uniform(low=0, high=1, size=1000),\n",
    "    'binomial': np.random.binomial(n=1, p=0.2, size=1000)\n",
    "}\n",
    "\n",
    "df = pd.DataFrame(data=data_dict, index=pd.date_range('2023-01-01', periods=1000))"
   ]
  },
  {
   "cell_type": "markdown",
   "id": "677ed929a5e95212",
   "metadata": {
    "collapsed": false
   },
   "source": [
    "### Miejsce na rozwiązanie"
   ]
  },
  {
   "cell_type": "code",
   "execution_count": 91,
   "id": "7ccc873cbc9c86b1",
   "metadata": {
    "collapsed": false
   },
   "outputs": [],
   "source": [
    "df.head(50).to_csv('dataframe50.csv')"
   ]
  },
  {
   "cell_type": "markdown",
   "id": "f8ec7e1e821942d1",
   "metadata": {
    "collapsed": false
   },
   "source": [
    "## Ćwiczenie 18"
   ]
  },
  {
   "cell_type": "markdown",
   "id": "b062d3893e893139",
   "metadata": {
    "collapsed": false
   },
   "source": [
    "Załaduj plik `dataframe50.csv` do zmiennej df_new (pamiętaj o prawidłowym załadowaniu indeksu) i wydrukuj zmienną df_new do konsoli."
   ]
  }
 ],
 "metadata": {
  "kernelspec": {
   "display_name": "Python 3",
   "language": "python",
   "name": "python3"
  },
  "language_info": {
   "codemirror_mode": {
    "name": "ipython",
    "version": 3
   },
   "file_extension": ".py",
   "mimetype": "text/x-python",
   "name": "python",
   "nbconvert_exporter": "python",
   "pygments_lexer": "ipython3",
   "version": "3.10.10"
  }
 },
 "nbformat": 4,
 "nbformat_minor": 5
}
